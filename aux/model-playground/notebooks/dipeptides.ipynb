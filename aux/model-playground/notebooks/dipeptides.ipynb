{
 "cells": [
  {
   "cell_type": "code",
   "execution_count": 1,
   "id": "3de1447e",
   "metadata": {},
   "outputs": [],
   "source": [
    "import pandas as pd\n",
    "import numpy as np\n",
    "import seaborn as sns\n",
    "import matplotlib.pyplot as plt\n",
    "\n",
    "from sklearn.linear_model import Ridge, Lasso\n",
    "from sklearn.ensemble import RandomForestRegressor\n",
    "from sklearn.svm import SVR\n",
    "\n",
    "from scipy.stats import spearmanr\n",
    "from sklearn.metrics import mean_squared_error\n",
    "\n",
    "from sklearn.preprocessing import StandardScaler\n",
    "from sklearn.decomposition import PCA\n"
   ]
  },
  {
   "cell_type": "code",
   "execution_count": 2,
   "id": "2dce814b",
   "metadata": {},
   "outputs": [
    {
     "name": "stdout",
     "output_type": "stream",
     "text": [
      "/home/jan/misc/copenhagen-hack/optimal-ph/aux/model-playground\n"
     ]
    }
   ],
   "source": [
    "%cd .."
   ]
  },
  {
   "cell_type": "code",
   "execution_count": 3,
   "id": "58e3fb64",
   "metadata": {},
   "outputs": [
    {
     "data": {
      "text/html": [
       "<div>\n",
       "<style scoped>\n",
       "    .dataframe tbody tr th:only-of-type {\n",
       "        vertical-align: middle;\n",
       "    }\n",
       "\n",
       "    .dataframe tbody tr th {\n",
       "        vertical-align: top;\n",
       "    }\n",
       "\n",
       "    .dataframe thead th {\n",
       "        text-align: right;\n",
       "    }\n",
       "</style>\n",
       "<table border=\"1\" class=\"dataframe\">\n",
       "  <thead>\n",
       "    <tr style=\"text-align: right;\">\n",
       "      <th></th>\n",
       "      <th>mean_growth_PH</th>\n",
       "      <th>sequence</th>\n",
       "      <th>representative</th>\n",
       "      <th>is7</th>\n",
       "    </tr>\n",
       "  </thead>\n",
       "  <tbody>\n",
       "    <tr>\n",
       "      <th>99973</th>\n",
       "      <td>7.40</td>\n",
       "      <td>MEANHGMNNYIKLAFVFGITTMATSYADTVAPPTLLTAQKLPQLQQ...</td>\n",
       "      <td>True</td>\n",
       "      <td>False</td>\n",
       "    </tr>\n",
       "    <tr>\n",
       "      <th>84793</th>\n",
       "      <td>7.00</td>\n",
       "      <td>MEFFKKTALAALVMGFSGAALALPNITILATGGTIAGGGDSATKSN...</td>\n",
       "      <td>False</td>\n",
       "      <td>True</td>\n",
       "    </tr>\n",
       "    <tr>\n",
       "      <th>27864</th>\n",
       "      <td>6.50</td>\n",
       "      <td>MSPLGILRRHRVAALLGAALIISPVVVSFAQSANSTGVSKIVATTQ...</td>\n",
       "      <td>True</td>\n",
       "      <td>False</td>\n",
       "    </tr>\n",
       "    <tr>\n",
       "      <th>46228</th>\n",
       "      <td>7.80</td>\n",
       "      <td>MKKQYWYVIITYVAMQLSSLVGVPLLAHSGFINASNKDIAISIASG...</td>\n",
       "      <td>False</td>\n",
       "      <td>False</td>\n",
       "    </tr>\n",
       "    <tr>\n",
       "      <th>6028</th>\n",
       "      <td>7.00</td>\n",
       "      <td>MSKKKMAITLSAMLSATIIPSFTMDVHAEKKEETKNTKIELENGMT...</td>\n",
       "      <td>False</td>\n",
       "      <td>True</td>\n",
       "    </tr>\n",
       "    <tr>\n",
       "      <th>...</th>\n",
       "      <td>...</td>\n",
       "      <td>...</td>\n",
       "      <td>...</td>\n",
       "      <td>...</td>\n",
       "    </tr>\n",
       "    <tr>\n",
       "      <th>69002</th>\n",
       "      <td>7.00</td>\n",
       "      <td>MEIIMRNLCFLLTLVATLLLHGRLIAAALPQDEKLITGQLDNGLRY...</td>\n",
       "      <td>False</td>\n",
       "      <td>True</td>\n",
       "    </tr>\n",
       "    <tr>\n",
       "      <th>75674</th>\n",
       "      <td>7.00</td>\n",
       "      <td>MSKHPKLLVLALACLACAGRASAAPASDEVARLAQRCAPDVSPLTM...</td>\n",
       "      <td>False</td>\n",
       "      <td>True</td>\n",
       "    </tr>\n",
       "    <tr>\n",
       "      <th>50377</th>\n",
       "      <td>7.45</td>\n",
       "      <td>MSRAGSLMLVLGTALWLCGCSGMNSENKRVAPVAEKRPHTMSLHGV...</td>\n",
       "      <td>True</td>\n",
       "      <td>False</td>\n",
       "    </tr>\n",
       "    <tr>\n",
       "      <th>87875</th>\n",
       "      <td>7.00</td>\n",
       "      <td>MSAGRLNKKSLGIVMLLSVGLLLAGCSGSKSSDTGTYSGSVYTVKR...</td>\n",
       "      <td>False</td>\n",
       "      <td>True</td>\n",
       "    </tr>\n",
       "    <tr>\n",
       "      <th>79448</th>\n",
       "      <td>7.00</td>\n",
       "      <td>MSAGSPKFTVRRIAALSLVSLWLAGCSDTSNPPAPVSSVNGNAPAN...</td>\n",
       "      <td>False</td>\n",
       "      <td>True</td>\n",
       "    </tr>\n",
       "  </tbody>\n",
       "</table>\n",
       "<p>84000 rows × 4 columns</p>\n",
       "</div>"
      ],
      "text/plain": [
       "       mean_growth_PH                                           sequence  \\\n",
       "99973            7.40  MEANHGMNNYIKLAFVFGITTMATSYADTVAPPTLLTAQKLPQLQQ...   \n",
       "84793            7.00  MEFFKKTALAALVMGFSGAALALPNITILATGGTIAGGGDSATKSN...   \n",
       "27864            6.50  MSPLGILRRHRVAALLGAALIISPVVVSFAQSANSTGVSKIVATTQ...   \n",
       "46228            7.80  MKKQYWYVIITYVAMQLSSLVGVPLLAHSGFINASNKDIAISIASG...   \n",
       "6028             7.00  MSKKKMAITLSAMLSATIIPSFTMDVHAEKKEETKNTKIELENGMT...   \n",
       "...               ...                                                ...   \n",
       "69002            7.00  MEIIMRNLCFLLTLVATLLLHGRLIAAALPQDEKLITGQLDNGLRY...   \n",
       "75674            7.00  MSKHPKLLVLALACLACAGRASAAPASDEVARLAQRCAPDVSPLTM...   \n",
       "50377            7.45  MSRAGSLMLVLGTALWLCGCSGMNSENKRVAPVAEKRPHTMSLHGV...   \n",
       "87875            7.00  MSAGRLNKKSLGIVMLLSVGLLLAGCSGSKSSDTGTYSGSVYTVKR...   \n",
       "79448            7.00  MSAGSPKFTVRRIAALSLVSLWLAGCSDTSNPPAPVSSVNGNAPAN...   \n",
       "\n",
       "       representative    is7  \n",
       "99973            True  False  \n",
       "84793           False   True  \n",
       "27864            True  False  \n",
       "46228           False  False  \n",
       "6028            False   True  \n",
       "...               ...    ...  \n",
       "69002           False   True  \n",
       "75674           False   True  \n",
       "50377            True  False  \n",
       "87875           False   True  \n",
       "79448           False   True  \n",
       "\n",
       "[84000 rows x 4 columns]"
      ]
     },
     "execution_count": 3,
     "metadata": {},
     "output_type": "execute_result"
    }
   ],
   "source": [
    "train_meta = pd.read_csv(\"../train.csv\", index_col=0)\n",
    "valid_meta = pd.read_csv(\"../valid.csv\", index_col=0)\n",
    "train_meta"
   ]
  },
  {
   "cell_type": "code",
   "execution_count": 6,
   "id": "ceaef4df",
   "metadata": {},
   "outputs": [],
   "source": [
    "freq1 = pd.read_csv(\"data/1-mers.tsv\", sep=\"\\t\")\n",
    "freq2 = pd.read_parquet(\"data/2-mers.parquet.gzip\")\n",
    "phychem = pd.read_csv(\"../../data/physchem/properties.csv\", index_col=0).drop(\"ID\", axis=1).reset_index(drop=True)\n",
    "features = pd.concat([freq1, freq2, phychem], axis=1)\n"
   ]
  },
  {
   "cell_type": "code",
   "execution_count": 7,
   "id": "42aee09b",
   "metadata": {},
   "outputs": [],
   "source": [
    "def get_xy(metadata, features, only_repr = False, only_not7 = False):\n",
    "    if only_repr:\n",
    "        metadata = metadata[metadata.representative]\n",
    "    if only_not7:\n",
    "        metadata = metadata[~metadata.is7]\n",
    "    \n",
    "    y = metadata.mean_growth_PH.to_numpy()\n",
    "    X = features.loc[metadata.index].to_numpy()\n",
    "    return X, y\n",
    "\n",
    "X_train, y_train = get_xy(train_meta, features, only_not7=True)\n",
    "X_valid, y_valid = get_xy(valid_meta, features, only_not7=True)\n"
   ]
  },
  {
   "cell_type": "code",
   "execution_count": 8,
   "id": "77c84423",
   "metadata": {},
   "outputs": [
    {
     "data": {
      "text/plain": [
       "((28168, 425), (28168,))"
      ]
     },
     "execution_count": 8,
     "metadata": {},
     "output_type": "execute_result"
    }
   ],
   "source": [
    "X_train.shape, y_train.shape"
   ]
  },
  {
   "cell_type": "code",
   "execution_count": 9,
   "id": "8ef61953",
   "metadata": {},
   "outputs": [
    {
     "data": {
      "text/plain": [
       "((7042, 425), (7042,))"
      ]
     },
     "execution_count": 9,
     "metadata": {},
     "output_type": "execute_result"
    }
   ],
   "source": [
    "X_valid.shape, y_valid.shape"
   ]
  },
  {
   "cell_type": "code",
   "execution_count": 10,
   "id": "3a14b7ee",
   "metadata": {},
   "outputs": [
    {
     "data": {
      "text/plain": [
       "((14209, 425), (3552, 425))"
      ]
     },
     "execution_count": 10,
     "metadata": {},
     "output_type": "execute_result"
    }
   ],
   "source": [
    "X_train_repr, y_train_repr = get_xy(train_meta, features, only_not7=True, only_repr=True)\n",
    "X_valid_repr, y_valid_repr = get_xy(valid_meta, features, only_not7=True, only_repr=True)\n",
    "\n",
    "X_train_repr = X_train_repr\n",
    "X_valid_repr = X_valid_repr\n",
    "\n",
    "\n",
    "X_train_repr.shape, X_valid_repr.shape"
   ]
  },
  {
   "cell_type": "code",
   "execution_count": 11,
   "id": "4eadb439",
   "metadata": {},
   "outputs": [
    {
     "name": "stdout",
     "output_type": "stream",
     "text": [
      ">> RandomForest d4\n",
      "Train | Spearman 0.3649 RMSE 0.9857\n",
      "Valid | Spearman 0.3496 RMSE 0.9814\n",
      "ValRe | Spearman 0.3545 RMSE 1.1109\n"
     ]
    }
   ],
   "source": [
    "models = [\n",
    "    (\"RandomForest d4\", RandomForestRegressor(max_depth=4, random_state=31415)),\n",
    "]\n",
    "\n",
    "for name, model in models:\n",
    "    model.fit(X_train, y_train)\n",
    "    train_pred = model.predict(X_train)\n",
    "    valid_pred = model.predict(X_valid)\n",
    "    valid_repr_pred = model.predict(X_valid_repr)\n",
    "\n",
    "\n",
    "    print(\">>\", name)\n",
    "    print(\"Train | Spearman {:.4f} RMSE {:.4f}\".format(spearmanr(train_pred, y_train)[0], np.sqrt(mean_squared_error(train_pred, y_train))))\n",
    "    print(\"Valid | Spearman {:.4f} RMSE {:.4f}\".format(spearmanr(valid_pred, y_valid)[0], np.sqrt(mean_squared_error(valid_pred, y_valid))))\n",
    "    print(\"ValRe | Spearman {:.4f} RMSE {:.4f}\".format(spearmanr(valid_repr_pred, y_valid_repr)[0], np.sqrt(mean_squared_error(valid_repr_pred, y_valid_repr))))"
   ]
  }
 ],
 "metadata": {
  "kernelspec": {
   "display_name": "Python 3",
   "language": "python",
   "name": "python3"
  },
  "language_info": {
   "codemirror_mode": {
    "name": "ipython",
    "version": 3
   },
   "file_extension": ".py",
   "mimetype": "text/x-python",
   "name": "python",
   "nbconvert_exporter": "python",
   "pygments_lexer": "ipython3",
   "version": "3.9.4"
  }
 },
 "nbformat": 4,
 "nbformat_minor": 5
}
